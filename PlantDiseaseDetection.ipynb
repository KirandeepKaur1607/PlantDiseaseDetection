{
  "cells": [
    {
      "cell_type": "code",
      "execution_count": null,
      "metadata": {
        "colab": {
          "base_uri": "https://localhost:8080/"
        },
        "id": "6xvsiEeuOYEH",
        "outputId": "56e5ad9b-2f76-4605-bdf2-a9dbe951dcc9"
      },
      "outputs": [
        {
          "name": "stdout",
          "output_type": "stream",
          "text": [
            "\u001b[2K     \u001b[90m━━━━━━━━━━━━━━━━━━━━━━━━━━━━━━━━━━━━━━━━\u001b[0m \u001b[32m44.3/44.3 kB\u001b[0m \u001b[31m1.2 MB/s\u001b[0m eta \u001b[36m0:00:00\u001b[0m\n",
            "\u001b[2K   \u001b[90m━━━━━━━━━━━━━━━━━━━━━━━━━━━━━━━━━━━━━━━━\u001b[0m \u001b[32m9.9/9.9 MB\u001b[0m \u001b[31m27.8 MB/s\u001b[0m eta \u001b[36m0:00:00\u001b[0m\n",
            "\u001b[2K   \u001b[90m━━━━━━━━━━━━━━━━━━━━━━━━━━━━━━━━━━━━━━━━\u001b[0m \u001b[32m6.9/6.9 MB\u001b[0m \u001b[31m23.4 MB/s\u001b[0m eta \u001b[36m0:00:00\u001b[0m\n",
            "\u001b[2K   \u001b[90m━━━━━━━━━━━━━━━━━━━━━━━━━━━━━━━━━━━━━━━━\u001b[0m \u001b[32m79.1/79.1 kB\u001b[0m \u001b[31m2.4 MB/s\u001b[0m eta \u001b[36m0:00:00\u001b[0m\n",
            "\u001b[?25h"
          ]
        }
      ],
      "source": [
        "!pip install --q streamlit"
      ]
    },
    {
      "cell_type": "code",
      "execution_count": null,
      "metadata": {
        "colab": {
          "base_uri": "https://localhost:8080/"
        },
        "id": "0LZJrAqmOaGR",
        "outputId": "9a11e978-821e-4be0-8094-1a2a1df339d2"
      },
      "outputs": [
        {
          "name": "stdout",
          "output_type": "stream",
          "text": [
            "Writing app.py\n"
          ]
        }
      ],
      "source": [
        "%%writefile app.py\n",
        "import tensorflow as tf\n",
        "import numpy as np\n",
        "import matplotlib.pyplot as plt\n",
        "import cv2\n",
        "import streamlit as st\n",
        "from tensorflow.keras.applications import MobileNetV2\n",
        "from tensorflow.keras.preprocessing.image import img_to_array\n",
        "from tensorflow.keras.models import load_model\n",
        "import os\n",
        "\n",
        "# Load pre-trained MobileNetV2 model with custom layers\n",
        "base_model = MobileNetV2(weights='imagenet', include_top=False, input_shape=(128, 128, 3))\n",
        "\n",
        "# Add custom classification layers\n",
        "from tensorflow.keras.layers import GlobalAveragePooling2D, Dense, Dropout\n",
        "from tensorflow.keras.models import Model\n",
        "\n",
        "x = base_model.output\n",
        "x = GlobalAveragePooling2D()(x)\n",
        "x = Dense(128, activation='relu')(x)\n",
        "x = Dropout(0.5)(x)\n",
        "predictions = Dense(38, activation='softmax')(x)  # Assuming 38 disease classes\n",
        "model = Model(inputs=base_model.input, outputs=predictions)\n",
        "\n",
        "# Freeze base model layers\n",
        "for layer in base_model.layers:\n",
        "    layer.trainable = False\n",
        "\n",
        "model.compile(optimizer='adam', loss='sparse_categorical_crossentropy', metrics=['accuracy'])\n",
        "\n",
        "# Save model\n",
        "model.save(\"plant_disease_model.h5\")\n",
        "\n",
        "# Load model for inference\n",
        "model = load_model(\"plant_disease_model.h5\")\n",
        "\n",
        "# Streamlit UI\n",
        "disease_dict = {\n",
        "    0: (\"Apple___Apple_scab\", \"To cure apple scab, use fungicides like captan or chlorothalonil early in the season for prevention. If the disease is present, apply fungicides such as myclobutanil or tebuconazole. Prune infected leaves, fruit, and twigs to improve air circulation and reduce spore spread. Dispose of fallen infected material and consider using mulch to prevent spores from splashing back onto the tree..\"),\n",
        "    1: (\"Apple___Black_rot\", \"remove and destroy any infected leaves, fruit, and branches to prevent further spread of the disease. Use copper-based fungicides or myclobutanil to treat infected areas. It is also essential to maintain good air circulation around the tree and practice proper pruning techniques. Infected fruit should be removed from the tree promptly, and fallen fruit should be discarded to reduce the chance of reinfection. Additionally, applying a fungicide spray at regular intervals during the growing season will help manage the disease.\"),\n",
        "    2: (\"Apple___Cedar_apple_rust\", \"emove and destroy any infected leaves and fruit to reduce the spread of the disease. Pruning and thinning the tree to improve air circulation can also help reduce the conditions favorable for rust growth. Applying fungicides, such as chlorothalonil or myclobutanil, during the growing season, especially during early spring when the disease is most active, can prevent new infections. Planting rust-resistant apple varieties is another preventive measure. It is also advised to remove nearby cedar trees, which are the alternate hosts of the fungus. Regular monitoring and treating infected areas early will help manage cedar apple rust.\"),\n",
        "    # 3: (\"Apple___healthy\", \"No disease detected. Maintain plant health.\"),\n",
        "    # 4: (\"Blueberry___healthy\", \"No disease detected. Keep monitoring.\"),\n",
        "    5: (\"Cherry_(including_sour)___Powdery_mildew\", \"start by removing and destroying any infected plant parts, such as leaves and stems, to reduce the spread of the disease. Applying fungicides such as sulfur-based or potassium bicarbonate products can effectively control the fungus. Ensure proper air circulation around the plant by thinning out dense areas and avoiding overcrowding, as powdery mildew thrives in humid and stagnant conditions. Additionally, watering the plants at the base rather than overhead can help reduce moisture on the leaves, which is a key factor in the development of powdery mildew. Regular monitoring and early intervention are essential for effective control.\"),\n",
        "    # 6: (\"Cherry_(including_sour)___healthy\", \"No disease detected.\"),\n",
        "    7: (\"Corn_(maize)___Cercospora_leaf_spot Gray_leaf_spot\", \"To treat **Cercospora Leaf Spot** and **Gray Leaf Spot** on corn (maize), apply fungicides that are effective against these fungal infections. It's important to rotate crops regularly to reduce the buildup of the disease in the soil. In addition, remove and destroy infected plant debris after harvest to minimize the risk of reinfection. Implementing proper irrigation techniques, such as drip irrigation, can help keep the leaves dry, as the disease thrives in wet conditions. Regular monitoring of the crop is essential to catch early signs and apply treatments promptly.\"),\n",
        "    8: (\"Corn_(maize)___Common_rust_\", \"Use resistant hybrids and fungicides.\"),\n",
        "    9: (\"Corn_(maize)___Northern_Leaf_Blight\", \"To treat **Northern Leaf Blight** on corn (maize), it is recommended to use fungicides specifically targeted for this disease. Timing is crucial, so applying fungicides at the right growth stage—usually during the early to mid-flowering period—can be effective. Crop rotation is another key strategy to reduce the recurrence of the disease, as it helps break the disease cycle. Additionally, removing infected leaves and plant debris from the field after harvest can help prevent the fungus from overwintering. Using resistant corn varieties can also provide long-term protection against Northern Leaf Blight. Regular monitoring of the crop is essential for early detection and effective management.\"),\n",
        "    # 10: (\"Corn_(maize)___healthy\", \"No disease detected.\"),\n",
        "    11: (\"Grape___Black_rot\", \"To treat **Grape Black Rot**, it's important to implement a combination of cultural and chemical practices. Pruning affected vines and removing infected plant material can help reduce the spread of the disease. Applying fungicides at the right stages of vine growth, particularly during the early stages of infection, is crucial in controlling the spread. It’s also important to ensure proper vine spacing to improve air circulation and reduce humidity around the plants, as this can help minimize the environment conducive to fungal growth. Regularly monitoring the vineyard for signs of infection and applying fungicides as necessary can significantly reduce the impact of Black Rot on grape crops.\"),\n",
        "    12: (\"Grape___Esca_(Black_Measles)\", \"Remove infected vines and avoid injuries.\"),\n",
        "    13: (\"Grape___Leaf_blight_(Isariopsis_Leaf_Spot)\", \"Apply fungicides and proper pruning.\"),\n",
        "    # 14: (\"Grape___healthy\", \"No disease detected.\"),\n",
        "    15: (\"Orange___Haunglongbing_(Citrus_greening)\", \"Remove infected trees and control psyllids.\"),\n",
        "    16: (\"Peach___Bacterial_spot\", \"Use copper-based sprays and remove infected leaves.\"),\n",
        "    # 17: (\"Peach___healthy\", \"No disease detected.\"),\n",
        "    18: (\"Pepper,_bell___Bacterial_spot\", \"Avoid overhead watering and apply copper sprays.\"),\n",
        "    # 19: (\"Pepper,_bell___healthy\", \"No disease detected.\"),\n",
        "    20: (\"Potato___Early_blight\", \"Use certified seeds and apply fungicides.\"),\n",
        "    21: (\"Potato___Late_blight\", \"Practice crop rotation and destroy infected plants.\"),\n",
        "    # 22: (\"Potato___healthy\", \"No disease detected.\"),\n",
        "    # 23: (\"Raspberry___healthy\", \"No disease detected.\"),\n",
        "    # 24: (\"Soybean___healthy\", \"No disease detected.\"),\n",
        "    25: (\"Squash___Powdery_mildew\", \"Apply neem oil or sulfur sprays.\"),\n",
        "    26: (\"Strawberry___Leaf_scorch\", \"Remove infected leaves and apply fungicides.\"),\n",
        "    # 27: (\"Strawberry___healthy\", \"No disease detected.\"),\n",
        "    28: (\"Tomato___Bacterial_spot\", \"Use copper-based sprays.\"),\n",
        "    29: (\"Tomato___Early_blight\", \"Use resistant varieties and remove infected leaves.\"),\n",
        "    30: (\"Tomato___Late_blight\", \"Destroy infected plants and use fungicides.\"),\n",
        "    31: (\"Tomato___Leaf_Mold\", \"To treat **Leaf Mold** on tomatoes, improve air circulation around the plants by spacing them adequately and pruning any excess foliage. This reduces humidity around the plant, which helps prevent the mold from spreading. Remove and dispose of any affected leaves to reduce the risk of further infection. Avoid overhead watering to prevent water from staying on the leaves. Fungicides that are labeled for use against fungal leaf diseases can also be applied to control the spread of the infection. Ensuring proper ventilation and maintaining dry foliage is key to preventing leaf mold\"),\n",
        "    32: (\"Tomato___Septoria_leaf_spot\", \"Apply fungicides and avoid wet leaves.\"),\n",
        "    33: (\"Tomato___Spider_mites Two-spotted_spider_mite\", \"To treat **Two-Spotted Spider Mites** on tomatoes or other plants, begin by using insecticidal soap or horticultural oils to kill the mites on contact. You can also spray the plants with a strong stream of water to dislodge the mites from the plant leaves. Reducing dust and keeping the environment humid can make conditions less favorable for the mites. Additionally, introducing natural predators, such as ladybugs or predatory mites, can help control the spider mite population. Repeating treatments may be necessary, as spider mites can quickly build resistance. It's important to regularly monitor your plants to detect the presence of mites early before they cause extensive damage.\"),\n",
        "    34: (\"Tomato___Target_Spot\", \"Remove infected foliage and apply fungicides.\"),\n",
        "    35: (\"Tomato___Tomato_Yellow_Leaf_Curl_Virus\", \"To cure **Tomato Yellow Leaf Curl Virus (TYLCV)**, there is no direct cure once the plant is infected. The best course of action is to remove and destroy any infected plants to prevent the spread of the virus. The virus is primarily spread by whiteflies, so controlling the whitefly population is crucial. Use insecticidal soaps or neem oil to manage whiteflies, and consider using yellow sticky traps to capture them. To prevent future infections, plant virus-resistant tomato varieties and ensure proper plant spacing to reduce stress and increase airflow. Additionally, practicing crop rotation and removing plant debris can help reduce the likelihood of virus transmission..\"),\n",
        "    36: (\"Tomato___Tomato_mosaic_virus\", \"remove and destroy any infected plants immediately to prevent the virus from spreading to healthy ones. Disinfect all gardening tools, stakes, and supports used for the infected plants with a bleach solution or a suitable disinfectant. Avoid handling healthy plants after touching infected ones to prevent cross-contamination. It's crucial to control the vector, such as aphids, which can spread the virus. Using resistant tomato varieties is another preventive measure to reduce the impact of this disease. Always ensure to buy virus-free seedlings from reliable sources. Unfortunately, there is no cure once the plants are infected, so early detection and removal are key to managing the virus.\"),\n",
        "    # 37: (\"Tomato___healthy\", \"No disease detected.\")\n",
        "}\n",
        "\n",
        "\n",
        "def predict_disease(image):\n",
        "    image = cv2.resize(image, (128, 128))\n",
        "    image = image.astype('float32') / 255.0\n",
        "    image = np.expand_dims(image, axis=0)\n",
        "    prediction = model.predict(image)\n",
        "    class_index = np.argmax(prediction)\n",
        "    return class_index, prediction\n",
        "\n",
        "st.sidebar.image(['/content/n1 - Copy.png', '/content/n2 - Copy.png', '/content/n3 (1).png'], use_container_width=True)\n",
        "\n",
        "# Increase heading size and change color to green\n",
        "st.markdown(\"\"\" <h1 style='text-align: center; color: green; font-size: 36px;'>🌿PLANT DISEASE MANAGEMENT SYSTEM </h1> \"\"\", unsafe_allow_html=True)\n",
        "\n",
        "# User guidelines\n",
        "st.markdown(\"\"\"<h2 style='color: black;'>User Guidelines:</h2>\n",
        "<ul>\n",
        "<li>Only upload clear images of the <b>diseased part</b> of the plant.</li>\n",
        "<li>Avoid images with excessive background or multiple leaves.</li>\n",
        "<li>Ensure good lighting for better accuracy in detection.</li>\n",
        "</ul>\n",
        "\"\"\", unsafe_allow_html=True)\n",
        "\n",
        "uploaded_file = st.file_uploader(\"📤 Upload a plant leaf image\", type=[\"jpg\", \"png\", \"jpeg\"])\n",
        "\n",
        "if uploaded_file:\n",
        "    file_bytes = np.asarray(bytearray(uploaded_file.read()), dtype=np.uint8)\n",
        "    image = cv2.imdecode(file_bytes, cv2.IMREAD_COLOR)\n",
        "    image = cv2.cvtColor(image, cv2.COLOR_BGR2RGB)\n",
        "    st.image(image, caption='🌿 Uploaded Image', use_container_width=True)\n",
        "    class_index, confidence = predict_disease(image)\n",
        "    if class_index in disease_dict:\n",
        "        disease_name, cure = disease_dict[class_index]\n",
        "    else:\n",
        "        closest_class = max(disease_dict.keys(), key=lambda k: confidence[0][k])\n",
        "        disease_name, cure = disease_dict[closest_class]\n",
        "    st.write(f\"🦠 Predicted Disease:** {disease_name}\")\n",
        "    st.write(f\"💊 Suggested Cure:** {cure}\")\n",
        "\n",
        "\n",
        "from transformers import pipeline\n",
        "\n",
        "@st.cache_resource\n",
        "def load_qa_pipeline():\n",
        "    return pipeline(\"question-answering\", model=\"distilbert-base-uncased-distilled-squad\")\n",
        "\n",
        "qa_pipeline = load_qa_pipeline()\n",
        "\n",
        "# Generate context from the disease_dict\n",
        "context = \"\\n\".join([f\"{name}: {treatment}\" for _, (name, treatment) in disease_dict.items()])\n",
        "\n",
        "st.markdown(\"---\")\n",
        "st.markdown(\"### 🤖 Ask a Plant Disease Question\")\n",
        "user_question = st.text_input(\"💬 Ask your question here (e.g., How to treat black rot?)\")\n",
        "\n",
        "if user_question:\n",
        "    with st.spinner(\"Searching for the best answer...\"):\n",
        "        result = qa_pipeline({\n",
        "            'question': user_question,\n",
        "            'context': context\n",
        "        })\n",
        "        st.write(f\"🧠 Answer:** {result['answer']}\")"
      ]
    },
    {
      "cell_type": "code",
      "execution_count": null,
      "metadata": {
        "colab": {
          "base_uri": "https://localhost:8080/"
        },
        "id": "VtUKOx5yOeUN",
        "outputId": "8a4cf881-f1ce-49b9-9150-e9bd9580502a"
      },
      "outputs": [
        {
          "name": "stdout",
          "output_type": "stream",
          "text": [
            "35.245.113.190\n"
          ]
        }
      ],
      "source": [
        "! wget -q -O - ipv4.icanhazip.com"
      ]
    },
    {
      "cell_type": "code",
      "execution_count": null,
      "metadata": {
        "colab": {
          "background_save": true,
          "base_uri": "https://localhost:8080/"
        },
        "id": "_yyXFXb2OhDp",
        "outputId": "039999bf-780d-4a15-e892-d0cb7325c56b"
      },
      "outputs": [
        {
          "name": "stdout",
          "output_type": "stream",
          "text": [
            "\n",
            "Collecting usage statistics. To deactivate, set browser.gatherUsageStats to false.\n",
            "\u001b[0m\n",
            "\u001b[1G\u001b[0K⠙\u001b[1G\u001b[0K⠹\u001b[0m\n",
            "\u001b[34m\u001b[1m  You can now view your Streamlit app in your browser.\u001b[0m\n",
            "\u001b[0m\n",
            "\u001b[34m  Local URL: \u001b[0m\u001b[1mhttp://localhost:8501\u001b[0m\n",
            "\u001b[34m  Network URL: \u001b[0m\u001b[1mhttp://172.28.0.12:8501\u001b[0m\n",
            "\u001b[34m  External URL: \u001b[0m\u001b[1mhttp://35.245.113.190:8501\u001b[0m\n",
            "\u001b[0m\n",
            "\u001b[1G\u001b[0K⠸\u001b[1G\u001b[0K⠼\u001b[1G\u001b[0K⠴\u001b[1G\u001b[0K\u001b[1G\u001b[0JNeed to install the following packages:\n",
            "localtunnel@2.0.2\n",
            "Ok to proceed? (y) \u001b[20Gy\n",
            "\n",
            "\u001b[1G\u001b[0K⠙\u001b[1G\u001b[0K⠹\u001b[1G\u001b[0K⠸\u001b[1G\u001b[0K⠼\u001b[1G\u001b[0K⠴\u001b[1G\u001b[0K⠦\u001b[1G\u001b[0K⠧\u001b[1G\u001b[0K⠇\u001b[1G\u001b[0K⠏\u001b[1G\u001b[0K⠋\u001b[1G\u001b[0K⠙\u001b[1G\u001b[0K⠹\u001b[1G\u001b[0K⠸\u001b[1G\u001b[0K⠼\u001b[1G\u001b[0K⠴\u001b[1G\u001b[0K⠦\u001b[1G\u001b[0K⠧\u001b[1G\u001b[0K⠇\u001b[1G\u001b[0K⠏\u001b[1G\u001b[0K⠋\u001b[1G\u001b[0K⠙\u001b[1G\u001b[0Kyour url is: https://free-falcons-scream.loca.lt\n",
            "2025-05-29 06:56:14.149159: E external/local_xla/xla/stream_executor/cuda/cuda_fft.cc:477] Unable to register cuFFT factory: Attempting to register factory for plugin cuFFT when one has already been registered\n",
            "WARNING: All log messages before absl::InitializeLog() is called are written to STDERR\n",
            "E0000 00:00:1748501774.175977    1129 cuda_dnn.cc:8310] Unable to register cuDNN factory: Attempting to register factory for plugin cuDNN when one has already been registered\n",
            "E0000 00:00:1748501774.183899    1129 cuda_blas.cc:1418] Unable to register cuBLAS factory: Attempting to register factory for plugin cuBLAS when one has already been registered\n",
            "2025-05-29 06:56:14.211260: I tensorflow/core/platform/cpu_feature_guard.cc:210] This TensorFlow binary is optimized to use available CPU instructions in performance-critical operations.\n",
            "To enable the following instructions: AVX2 FMA, in other operations, rebuild TensorFlow with the appropriate compiler flags.\n",
            "2025-05-29 06:56:19.252339: E external/local_xla/xla/stream_executor/cuda/cuda_driver.cc:152] failed call to cuInit: INTERNAL: CUDA error: Failed call to cuInit: UNKNOWN ERROR (303)\n",
            "Downloading data from https://storage.googleapis.com/tensorflow/keras-applications/mobilenet_v2/mobilenet_v2_weights_tf_dim_ordering_tf_kernels_1.0_128_no_top.h5\n",
            "\u001b[1m9406464/9406464\u001b[0m \u001b[32m━━━━━━━━━━━━━━━━━━━━\u001b[0m\u001b[37m\u001b[0m \u001b[1m0s\u001b[0m 0us/step\n",
            "WARNING:absl:You are saving your model as an HDF5 file via `model.save()` or `keras.saving.save_model(model)`. This file format is considered legacy. We recommend using instead the native Keras format, e.g. `model.save('my_model.keras')` or `keras.saving.save_model(model, 'my_model.keras')`. \n",
            "WARNING:absl:Compiled the loaded model, but the compiled metrics have yet to be built. `model.compile_metrics` will be empty until you train or evaluate the model.\n",
            "WARNING:absl:You are saving your model as an HDF5 file via `model.save()` or `keras.saving.save_model(model)`. This file format is considered legacy. We recommend using instead the native Keras format, e.g. `model.save('my_model.keras')` or `keras.saving.save_model(model, 'my_model.keras')`. \n",
            "WARNING:absl:Compiled the loaded model, but the compiled metrics have yet to be built. `model.compile_metrics` will be empty until you train or evaluate the model.\n",
            "\u001b[1m1/1\u001b[0m \u001b[32m━━━━━━━━━━━━━━━━━━━━\u001b[0m\u001b[37m\u001b[0m \u001b[1m3s\u001b[0m 3s/step\n",
            "config.json: 100% 451/451 [00:00<00:00, 2.63MB/s]\n",
            "Xet Storage is enabled for this repo, but the 'hf_xet' package is not installed. Falling back to regular HTTP download. For better performance, install the package with: `pip install huggingface_hub[hf_xet]` or `pip install hf_xet`\n",
            "WARNING:huggingface_hub.file_download:Xet Storage is enabled for this repo, but the 'hf_xet' package is not installed. Falling back to regular HTTP download. For better performance, install the package with: `pip install huggingface_hub[hf_xet]` or `pip install hf_xet`\n",
            "model.safetensors: 100% 265M/265M [00:01<00:00, 201MB/s]\n",
            "tokenizer_config.json: 100% 48.0/48.0 [00:00<00:00, 292kB/s]\n",
            "vocab.txt: 100% 232k/232k [00:00<00:00, 19.6MB/s]\n",
            "tokenizer.json: 100% 466k/466k [00:00<00:00, 50.5MB/s]\n",
            "Device set to use cpu\n",
            "2025-05-29 06:56:50.305 Examining the path of torch.classes raised:\n",
            "Traceback (most recent call last):\n",
            "  File \"/usr/local/lib/python3.11/dist-packages/streamlit/web/bootstrap.py\", line 347, in run\n",
            "    if asyncio.get_running_loop().is_running():\n",
            "       ^^^^^^^^^^^^^^^^^^^^^^^^^^\n",
            "RuntimeError: no running event loop\n",
            "\n",
            "During handling of the above exception, another exception occurred:\n",
            "\n",
            "Traceback (most recent call last):\n",
            "  File \"/usr/local/lib/python3.11/dist-packages/streamlit/watcher/local_sources_watcher.py\", line 217, in get_module_paths\n",
            "    potential_paths = extract_paths(module)\n",
            "                      ^^^^^^^^^^^^^^^^^^^^^\n",
            "  File \"/usr/local/lib/python3.11/dist-packages/streamlit/watcher/local_sources_watcher.py\", line 210, in <lambda>\n",
            "    lambda m: list(m.__path__._path),\n",
            "                   ^^^^^^^^^^^^^^^^\n",
            "  File \"/usr/local/lib/python3.11/dist-packages/torch/_classes.py\", line 13, in __getattr__\n",
            "    proxy = torch._C._get_custom_class_python_wrapper(self.name, attr)\n",
            "            ^^^^^^^^^^^^^^^^^^^^^^^^^^^^^^^^^^^^^^^^^^^^^^^^^^^^^^^^^^\n",
            "RuntimeError: Tried to instantiate class '__path__._path', but it does not exist! Ensure that it is registered via torch::class_\n"
          ]
        }
      ],
      "source": [
        "! streamlit run app.py & npx localtunnel --port 8501"
      ]
    }
  ],
  "metadata": {
    "colab": {
      "provenance": []
    },
    "kernelspec": {
      "display_name": "Python 3",
      "name": "python3"
    },
    "language_info": {
      "name": "python"
    }
  },
  "nbformat": 4,
  "nbformat_minor": 0
}